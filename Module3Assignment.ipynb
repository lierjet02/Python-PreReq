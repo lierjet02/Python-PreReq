{
 "cells": [
  {
   "cell_type": "markdown",
   "metadata": {},
   "source": [
    "This code takes a list of numeric Fahrenheit temperatures and random strings and converts each temperature to Celsius while ignoring the non-numerics. "
   ]
  },
  {
   "cell_type": "code",
   "execution_count": 2,
   "metadata": {},
   "outputs": [
    {
     "name": "stdout",
     "output_type": "stream",
     "text": [
      "\"56.2 degrees Fahrenheit is equivalent with 13.4444 degrees Celsius.\"\n",
      "\"31.8 degrees Fahrenheit is equivalent with -0.111111 degrees Celsius.\"\n",
      "\"81.7 degrees Fahrenheit is equivalent with 27.6111 degrees Celsius.\"\n",
      "\"45.6 degrees Fahrenheit is equivalent with 7.55556 degrees Celsius.\"\n",
      "\"71.3 degrees Fahrenheit is equivalent with 21.8333 degrees Celsius.\"\n",
      "\"62.9 degrees Fahrenheit is equivalent with 17.1667 degrees Celsius.\"\n",
      "\"59 degrees Fahrenheit is equivalent with 15 degrees Celsius.\"\n",
      "\"92.5 degrees Fahrenheit is equivalent with 33.6111 degrees Celsius.\"\n",
      "\"95 degrees Fahrenheit is equivalent with 35 degrees Celsius.\"\n",
      "\"19.2 degrees Fahrenheit is equivalent with -7.11111 degrees Celsius.\"\n",
      "\"15 degrees Fahrenheit is equivalent with -9.44444 degrees Celsius.\"\n"
     ]
    }
   ],
   "source": [
    "temps = [56.2,31.8,'x',81.7,45.6,71.3,'this is text',62.9,59.0,92.5,95.0,19.2,15.0] #list of temperatures\n",
    "\n",
    "for tempFar in temps: #for loop to iterate through the above list\n",
    "    try: #if input is a numeric, code calculates and displays temp in Celsius\n",
    "        tempCel = (tempFar - 32.0) * (5 / 9)\n",
    "        print(f'\"{tempFar:g} degrees Fahrenheit is equivalent with {tempCel:g} degrees Celsius.\"')\n",
    "    except: #skips over non-numeric quantities\n",
    "        continue"
   ]
  },
  {
   "cell_type": "code",
   "execution_count": null,
   "metadata": {},
   "outputs": [],
   "source": []
  }
 ],
 "metadata": {
  "kernelspec": {
   "display_name": "Python 3",
   "language": "python",
   "name": "python3"
  },
  "language_info": {
   "codemirror_mode": {
    "name": "ipython",
    "version": 3
   },
   "file_extension": ".py",
   "mimetype": "text/x-python",
   "name": "python",
   "nbconvert_exporter": "python",
   "pygments_lexer": "ipython3",
   "version": "3.8.5"
  }
 },
 "nbformat": 4,
 "nbformat_minor": 2
}

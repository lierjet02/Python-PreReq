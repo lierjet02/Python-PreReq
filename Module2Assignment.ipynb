{
 "cells": [
  {
   "cell_type": "markdown",
   "metadata": {},
   "source": [
    "This code takes a temperature input from the user in degrees Fahrenheit and returns the equivalent temperature in degrees Celsius."
   ]
  },
  {
   "cell_type": "code",
   "execution_count": 3,
   "metadata": {},
   "outputs": [
    {
     "name": "stdout",
     "output_type": "stream",
     "text": [
      "Please enter a temperature in degrees Fahrenheit: 32\n",
      "\"The Celsius equivalent of the temperature you entered, 32 degrees, is 0 degrees Celsius.\"\n"
     ]
    }
   ],
   "source": [
    "tempFar = input('Please enter a temperature in degrees Fahrenheit: ') # assigns input to tempFar variable\n",
    "\n",
    "try: #if input can be converted to a floating point type, the code calculates and displays the Celsius equivalent\n",
    "    tempFar = float(tempFar)\n",
    "    tempCel = (tempFar - 32.0) * (5 / 9)\n",
    "    print(f'\"The Celsius equivalent of the temperature you entered, {tempFar:g} degrees, is {tempCel:g} degrees Celsius.\"')\n",
    "\n",
    "except: #prints an error message if the input could not be converted to floating point type\n",
    "    print(f'\"The temperature entered, \"{tempFar}\", is not an appropriate response.\"')"
   ]
  },
  {
   "cell_type": "code",
   "execution_count": null,
   "metadata": {},
   "outputs": [],
   "source": []
  }
 ],
 "metadata": {
  "kernelspec": {
   "display_name": "Python 3",
   "language": "python",
   "name": "python3"
  },
  "language_info": {
   "codemirror_mode": {
    "name": "ipython",
    "version": 3
   },
   "file_extension": ".py",
   "mimetype": "text/x-python",
   "name": "python",
   "nbconvert_exporter": "python",
   "pygments_lexer": "ipython3",
   "version": "3.8.5"
  }
 },
 "nbformat": 4,
 "nbformat_minor": 4
}
